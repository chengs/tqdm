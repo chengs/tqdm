{
 "cells": [
  {
   "cell_type": "code",
   "execution_count": 1,
   "metadata": {},
   "outputs": [],
   "source": [
    "from __future__ import print_function"
   ]
  },
  {
   "cell_type": "code",
   "execution_count": 2,
   "metadata": {},
   "outputs": [],
   "source": [
    "from tqdm import tnrange, tqdm_notebook\n",
    "from time import sleep"
   ]
  },
  {
   "cell_type": "code",
   "execution_count": 3,
   "metadata": {},
   "outputs": [],
   "source": [
    "from ipywidgets import Widget"
   ]
  },
  {
   "cell_type": "code",
   "execution_count": 4,
   "metadata": {},
   "outputs": [],
   "source": [
    "from IPython.utils.capture import capture_output"
   ]
  },
  {
   "cell_type": "code",
   "execution_count": 5,
   "metadata": {},
   "outputs": [],
   "source": [
    "with capture_output() as out:\n",
    "    for _ in tqdm_notebook(range(5)):\n",
    "        sleep(0.1)\n",
    "    assert len(out.outputs)>=1\n",
    "    widget = out.outputs[0].data\n",
    "    assert 'HBox(children=(IntProgress(value=0, max=5)' in widget['text/plain']\n",
    "    widget_id = widget['application/vnd.jupyter.widget-view+json']['model_id']\n",
    "    all_widgets = Widget.widgets\n",
    "    assert widget_id in all_widgets\n",
    "    meta_widget = str(all_widgets[widget_id])\n",
    "    print(meta_widget)\n",
    "    for info in ['value=5', 'bar_style','success', \"100%\", '5/5']:\n",
    "        assert info in meta_widget"
   ]
  },
  {
   "cell_type": "code",
   "execution_count": 6,
   "metadata": {},
   "outputs": [],
   "source": [
    "with capture_output() as out:\n",
    "    for _ in tnrange(5):\n",
    "        sleep(0.1)\n",
    "    assert len(out.outputs)>=1\n",
    "    widget = out.outputs[0].data\n",
    "    assert 'HBox(children=(IntProgress(value=0, max=5)' in widget['text/plain']\n",
    "    widget_id = widget['application/vnd.jupyter.widget-view+json']['model_id']\n",
    "    all_widgets = Widget.widgets\n",
    "    assert widget_id in all_widgets\n",
    "    meta_widget = str(all_widgets[widget_id])\n",
    "    print(meta_widget)\n",
    "    for info in ['value=5', 'bar_style','success', \"100%\", '5/5']:\n",
    "        assert info in meta_widget"
   ]
  },
  {
   "cell_type": "code",
   "execution_count": 7,
   "metadata": {},
   "outputs": [],
   "source": [
    "with capture_output() as out:\n",
    "    for i in tqdm_notebook(range(5)):\n",
    "        sleep(0.1)\n",
    "        if i == 1:\n",
    "            break\n",
    "        \n",
    "    assert len(out.outputs)>=1\n",
    "    widget = out.outputs[0].data\n",
    "    assert 'HBox(children=(IntProgress(value=0, max=5)' in widget['text/plain']\n",
    "    widget_id = widget['application/vnd.jupyter.widget-view+json']['model_id']\n",
    "    all_widgets = Widget.widgets\n",
    "    assert widget_id in all_widgets\n",
    "    meta_widget = str(all_widgets[widget_id])\n",
    "    print(meta_widget)\n",
    "    for info in ['value=1', 'bar_style', 'danger', '1/5']:\n",
    "        assert info in meta_widget"
   ]
  },
  {
   "cell_type": "code",
   "execution_count": 8,
   "metadata": {},
   "outputs": [],
   "source": [
    "with capture_output() as out:\n",
    "    for i in tnrange(5):\n",
    "        sleep(0.1)\n",
    "        if i == 1:\n",
    "            break\n",
    "        \n",
    "    assert len(out.outputs)>=1\n",
    "    widget = out.outputs[0].data\n",
    "    assert 'HBox(children=(IntProgress(value=0, max=5)' in widget['text/plain']\n",
    "    widget_id = widget['application/vnd.jupyter.widget-view+json']['model_id']\n",
    "    all_widgets = Widget.widgets\n",
    "    assert widget_id in all_widgets\n",
    "    meta_widget = str(all_widgets[widget_id])\n",
    "    print(meta_widget)\n",
    "    for info in ['value=1', 'bar_style','danger', '1/5']:\n",
    "        assert info in meta_widget"
   ]
  },
  {
   "cell_type": "code",
   "execution_count": 9,
   "metadata": {},
   "outputs": [],
   "source": [
    "with capture_output() as out:\n",
    "    pbar = tqdm_notebook(total=5)\n",
    "    sleep(0.1)\n",
    "    pbar.update()\n",
    "    sleep(0.1)\n",
    "    pbar.update(1)\n",
    "    sleep(0.1)\n",
    "    pbar.update(2)\n",
    "    sleep(0.1)\n",
    "    \n",
    "    \n",
    "    assert len(out.outputs)>=1\n",
    "    widget = out.outputs[0].data\n",
    "    assert 'HBox(children=(IntProgress(value=0, max=5)' in widget['text/plain']\n",
    "    widget_id = widget['application/vnd.jupyter.widget-view+json']['model_id']\n",
    "    all_widgets = Widget.widgets\n",
    "    assert widget_id in all_widgets\n",
    "    meta_widget = str(all_widgets[widget_id])\n",
    "    print(meta_widget)\n",
    "    for info in ['value=4', \"80%\", '4/5']:\n",
    "        assert info in meta_widget"
   ]
  },
  {
   "cell_type": "code",
   "execution_count": 10,
   "metadata": {},
   "outputs": [],
   "source": [
    "with capture_output() as out:\n",
    "    for _ in tqdm_notebook(range(5), desc='Test Desc'):\n",
    "        sleep(0.1)\n",
    "    assert len(out.outputs)>=1\n",
    "    widget = out.outputs[0].data\n",
    "    assert \"description='Test Desc'\" in widget['text/plain'] or \"description=u'Test Desc'\" in widget['text/plain']\n",
    "    \n",
    "    for _ in tnrange(5, desc='Test Desc'):\n",
    "        sleep(0.1)\n",
    "    assert len(out.outputs)>=1\n",
    "    widget = out.outputs[0].data\n",
    "    assert \"description='Test Desc'\" in widget['text/plain'] or \"description=u'Test Desc'\" in widget['text/plain']\n"
   ]
  },
  {
   "cell_type": "code",
   "execution_count": null,
   "metadata": {},
   "outputs": [],
   "source": []
  }
 ],
 "metadata": {
  "kernelspec": {
   "display_name": "Python 3",
   "language": "python",
   "name": "python3"
  },
  "language_info": {
   "codemirror_mode": {
    "name": "ipython",
    "version": 3
   },
   "file_extension": ".py",
   "mimetype": "text/x-python",
   "name": "python",
   "nbconvert_exporter": "python",
   "pygments_lexer": "ipython3",
   "version": "3.6.3"
  },
  "widgets": {
   "application/vnd.jupyter.widget-state+json": {
    "state": {
     "0879301a81974b5f87748f100513adcc": {
      "model_module": "@jupyter-widgets/controls",
      "model_module_version": "1.2.0",
      "model_name": "ProgressStyleModel",
      "state": {
       "description_width": ""
      }
     },
     "0c60d9750ab64bf685b53b5d86dc60a4": {
      "model_module": "@jupyter-widgets/base",
      "model_module_version": "1.0.0",
      "model_name": "LayoutModel",
      "state": {}
     },
     "106c6a0f70614482b1cabdce34469095": {
      "model_module": "@jupyter-widgets/base",
      "model_module_version": "1.0.0",
      "model_name": "LayoutModel",
      "state": {}
     },
     "12a3c2e513a84a198ed866e118e82544": {
      "model_module": "@jupyter-widgets/controls",
      "model_module_version": "1.2.0",
      "model_name": "ProgressStyleModel",
      "state": {
       "description_width": ""
      }
     },
     "25a3e68e2f54457ba2e1e7e4bdc1027f": {
      "model_module": "@jupyter-widgets/controls",
      "model_module_version": "1.2.0",
      "model_name": "IntProgressModel",
      "state": {
       "bar_style": "success",
       "description": "11",
       "layout": "IPY_MODEL_fb0bab5b15774e7fae87933015ed4410",
       "max": 10,
       "style": "IPY_MODEL_39c757fe2f714466baade0a1b6311806",
       "value": 10
      }
     },
     "26168bc8055a42a0ad1d0b20322e96b3": {
      "model_module": "@jupyter-widgets/controls",
      "model_module_version": "1.2.0",
      "model_name": "IntProgressModel",
      "state": {
       "bar_style": "danger",
       "layout": "IPY_MODEL_106c6a0f70614482b1cabdce34469095",
       "max": 10,
       "style": "IPY_MODEL_4dcf1738811849d2b4c8030a368ab1fe",
       "value": 5
      }
     },
     "293c0ad7c8a340bf91cd986e5a3bfc7b": {
      "model_module": "@jupyter-widgets/base",
      "model_module_version": "1.0.0",
      "model_name": "LayoutModel",
      "state": {}
     },
     "296c85d84da944b3b250462af3ccff7d": {
      "model_module": "@jupyter-widgets/controls",
      "model_module_version": "1.2.0",
      "model_name": "HBoxModel",
      "state": {
       "children": [
        "IPY_MODEL_26168bc8055a42a0ad1d0b20322e96b3",
        "IPY_MODEL_46273a37d4684d8db87cea73d723dd8f"
       ],
       "layout": "IPY_MODEL_714195c4532c4735b48550f13f68dd60"
      }
     },
     "369ab82a5280412c807133f90437fb6c": {
      "model_module": "@jupyter-widgets/base",
      "model_module_version": "1.0.0",
      "model_name": "LayoutModel",
      "state": {}
     },
     "36f137f2b9dc4a5890b66912497d64f1": {
      "model_module": "@jupyter-widgets/base",
      "model_module_version": "1.0.0",
      "model_name": "LayoutModel",
      "state": {}
     },
     "374d645936ff4b2ab072c324b6eba2ff": {
      "model_module": "@jupyter-widgets/controls",
      "model_module_version": "1.2.0",
      "model_name": "HTMLModel",
      "state": {
       "layout": "IPY_MODEL_fb5c1f3fa5044b4a9b32a8912382dd3d",
       "style": "IPY_MODEL_c447b6260ba94bd68b4b7a75b431ead5",
       "value": " 50% 5/10 [00:02&lt;00:02,  1.97it/s]"
      }
     },
     "39c757fe2f714466baade0a1b6311806": {
      "model_module": "@jupyter-widgets/controls",
      "model_module_version": "1.2.0",
      "model_name": "ProgressStyleModel",
      "state": {
       "description_width": ""
      }
     },
     "3b1d8a8117b0484690e7493e144c01e2": {
      "model_module": "@jupyter-widgets/base",
      "model_module_version": "1.0.0",
      "model_name": "LayoutModel",
      "state": {}
     },
     "3bfbd97d19e548a0af3ae31418803144": {
      "model_module": "@jupyter-widgets/controls",
      "model_module_version": "1.2.0",
      "model_name": "HTMLModel",
      "state": {
       "layout": "IPY_MODEL_ecc972b9dff349f28540d45b5ddc670d",
       "style": "IPY_MODEL_abdfa4b5cfc84b9d9f8bda110a8ea8f7",
       "value": "100% 10/10 [00:05&lt;00:00,  1.98it/s]"
      }
     },
     "3edbbecd938543c7ad8d1dcc8cf3b8b2": {
      "model_module": "@jupyter-widgets/controls",
      "model_module_version": "1.2.0",
      "model_name": "IntProgressModel",
      "state": {
       "bar_style": "danger",
       "layout": "IPY_MODEL_e9964f7d763b4b82a00c77887bced76b",
       "max": 10,
       "style": "IPY_MODEL_4fb990842d1840bbba212e911edb57b5"
      }
     },
     "3f927229fc2e49899dde75798e4bcb39": {
      "model_module": "@jupyter-widgets/base",
      "model_module_version": "1.0.0",
      "model_name": "LayoutModel",
      "state": {}
     },
     "446270d9c1b84199a35ca76b94954503": {
      "model_module": "@jupyter-widgets/controls",
      "model_module_version": "1.2.0",
      "model_name": "HBoxModel",
      "state": {
       "children": [
        "IPY_MODEL_70c812f7f3134a6e8ec6169681fafc42",
        "IPY_MODEL_4e649d5f1f0c4cc79c3e18070095ed57"
       ],
       "layout": "IPY_MODEL_472f43d2edc042508c69076ae9fcd0bf"
      }
     },
     "46273a37d4684d8db87cea73d723dd8f": {
      "model_module": "@jupyter-widgets/controls",
      "model_module_version": "1.2.0",
      "model_name": "HTMLModel",
      "state": {
       "layout": "IPY_MODEL_36f137f2b9dc4a5890b66912497d64f1",
       "style": "IPY_MODEL_bf06079a018144a880b41dc6edb28ab5",
       "value": " 50% 5/10 [00:02&lt;00:02,  1.97it/s]"
      }
     },
     "472f43d2edc042508c69076ae9fcd0bf": {
      "model_module": "@jupyter-widgets/base",
      "model_module_version": "1.0.0",
      "model_name": "LayoutModel",
      "state": {}
     },
     "47d09cbd6a4742c48a5493e579a64e79": {
      "model_module": "@jupyter-widgets/controls",
      "model_module_version": "1.2.0",
      "model_name": "DescriptionStyleModel",
      "state": {
       "description_width": ""
      }
     },
     "4baaf36acee5414392dab02005d411dd": {
      "model_module": "@jupyter-widgets/controls",
      "model_module_version": "1.2.0",
      "model_name": "IntProgressModel",
      "state": {
       "bar_style": "success",
       "layout": "IPY_MODEL_8883ba858ef24f68a3fc442d13ae963a",
       "max": 10,
       "style": "IPY_MODEL_12a3c2e513a84a198ed866e118e82544",
       "value": 10
      }
     },
     "4c26e4af0cf840a9aa000b86aef7fcb3": {
      "model_module": "@jupyter-widgets/controls",
      "model_module_version": "1.2.0",
      "model_name": "HTMLModel",
      "state": {
       "layout": "IPY_MODEL_4d2ba52511dd4213aeb13eddad73e535",
       "style": "IPY_MODEL_d450b24103f1488abae213a38bc5f706",
       "value": " 50% 5/10 [00:02&lt;00:02,  1.96it/s]"
      }
     },
     "4d2ba52511dd4213aeb13eddad73e535": {
      "model_module": "@jupyter-widgets/base",
      "model_module_version": "1.0.0",
      "model_name": "LayoutModel",
      "state": {}
     },
     "4dcf1738811849d2b4c8030a368ab1fe": {
      "model_module": "@jupyter-widgets/controls",
      "model_module_version": "1.2.0",
      "model_name": "ProgressStyleModel",
      "state": {
       "description_width": ""
      }
     },
     "4e649d5f1f0c4cc79c3e18070095ed57": {
      "model_module": "@jupyter-widgets/controls",
      "model_module_version": "1.2.0",
      "model_name": "HTMLModel",
      "state": {
       "layout": "IPY_MODEL_c49f831ccd3e467092de6612397bba48",
       "style": "IPY_MODEL_de899539a77c4c1c91b7178f1117e799",
       "value": " 50% 5/10 [00:02&lt;00:02,  1.96it/s]"
      }
     },
     "4e711b4985c1484dbf69272476e9eef2": {
      "model_module": "@jupyter-widgets/controls",
      "model_module_version": "1.2.0",
      "model_name": "IntProgressModel",
      "state": {
       "bar_style": "success",
       "layout": "IPY_MODEL_a79e51fcac5543e08fbc71580b87819c",
       "max": 10,
       "style": "IPY_MODEL_7bca098d69c24e80a881b0607b1a7de4",
       "value": 10
      }
     },
     "4fb990842d1840bbba212e911edb57b5": {
      "model_module": "@jupyter-widgets/controls",
      "model_module_version": "1.2.0",
      "model_name": "ProgressStyleModel",
      "state": {
       "description_width": ""
      }
     },
     "520f8f7807344a328bb5efda0894326c": {
      "model_module": "@jupyter-widgets/controls",
      "model_module_version": "1.2.0",
      "model_name": "HTMLModel",
      "state": {
       "layout": "IPY_MODEL_0c60d9750ab64bf685b53b5d86dc60a4",
       "style": "IPY_MODEL_7b7706104f4d4cfda379ebf3e0b39ded",
       "value": " 50% 5/10 [00:02&lt;00:02,  1.96it/s]"
      }
     },
     "55bb23c695814f63a5b82e14780ceb52": {
      "model_module": "@jupyter-widgets/controls",
      "model_module_version": "1.2.0",
      "model_name": "HBoxModel",
      "state": {
       "children": [
        "IPY_MODEL_25a3e68e2f54457ba2e1e7e4bdc1027f",
        "IPY_MODEL_8ae5d28b0931419aa3c55c85bade90be"
       ],
       "layout": "IPY_MODEL_a2b4d1145a614924bcdb70ea5c9d3b46"
      }
     },
     "57092664906c46488896faa11c88b92a": {
      "model_module": "@jupyter-widgets/base",
      "model_module_version": "1.0.0",
      "model_name": "LayoutModel",
      "state": {}
     },
     "575178375deb4e7f82bd313325b7cf91": {
      "model_module": "@jupyter-widgets/controls",
      "model_module_version": "1.2.0",
      "model_name": "ProgressStyleModel",
      "state": {
       "description_width": ""
      }
     },
     "5945bd360b3f4f8cae1689a0e0142500": {
      "model_module": "@jupyter-widgets/controls",
      "model_module_version": "1.2.0",
      "model_name": "DescriptionStyleModel",
      "state": {
       "description_width": ""
      }
     },
     "59f66c8b636c441fa043b7f7baff72bb": {
      "model_module": "@jupyter-widgets/controls",
      "model_module_version": "1.2.0",
      "model_name": "DescriptionStyleModel",
      "state": {
       "description_width": ""
      }
     },
     "5ba8f68609b94766b7cec820f4ce5c0e": {
      "model_module": "@jupyter-widgets/controls",
      "model_module_version": "1.2.0",
      "model_name": "IntProgressModel",
      "state": {
       "bar_style": "danger",
       "layout": "IPY_MODEL_369ab82a5280412c807133f90437fb6c",
       "max": 10,
       "style": "IPY_MODEL_d08fccabfc7749278950660c84521d1b",
       "value": 5
      }
     },
     "70c812f7f3134a6e8ec6169681fafc42": {
      "model_module": "@jupyter-widgets/controls",
      "model_module_version": "1.2.0",
      "model_name": "IntProgressModel",
      "state": {
       "bar_style": "danger",
       "description": "11",
       "layout": "IPY_MODEL_293c0ad7c8a340bf91cd986e5a3bfc7b",
       "max": 10,
       "style": "IPY_MODEL_0879301a81974b5f87748f100513adcc",
       "value": 5
      }
     },
     "714195c4532c4735b48550f13f68dd60": {
      "model_module": "@jupyter-widgets/base",
      "model_module_version": "1.0.0",
      "model_name": "LayoutModel",
      "state": {}
     },
     "71482b64ac25479bafe88e3471fa26cc": {
      "model_module": "@jupyter-widgets/controls",
      "model_module_version": "1.2.0",
      "model_name": "HBoxModel",
      "state": {
       "children": [
        "IPY_MODEL_a824093dce3548119c390453ef219cff",
        "IPY_MODEL_4c26e4af0cf840a9aa000b86aef7fcb3"
       ],
       "layout": "IPY_MODEL_835a44722f6f4a0ca16f848a8d8cd3fa"
      }
     },
     "79033742741247b384e53102fb3bfc43": {
      "model_module": "@jupyter-widgets/controls",
      "model_module_version": "1.2.0",
      "model_name": "ProgressStyleModel",
      "state": {
       "description_width": ""
      }
     },
     "7af57ac3f6d64244b7ffe9b7f0b8ce31": {
      "model_module": "@jupyter-widgets/controls",
      "model_module_version": "1.2.0",
      "model_name": "DescriptionStyleModel",
      "state": {
       "description_width": ""
      }
     },
     "7b7706104f4d4cfda379ebf3e0b39ded": {
      "model_module": "@jupyter-widgets/controls",
      "model_module_version": "1.2.0",
      "model_name": "DescriptionStyleModel",
      "state": {
       "description_width": ""
      }
     },
     "7bca098d69c24e80a881b0607b1a7de4": {
      "model_module": "@jupyter-widgets/controls",
      "model_module_version": "1.2.0",
      "model_name": "ProgressStyleModel",
      "state": {
       "description_width": ""
      }
     },
     "821556f4d716455d9a9d46a371a4a3e4": {
      "model_module": "@jupyter-widgets/controls",
      "model_module_version": "1.2.0",
      "model_name": "HBoxModel",
      "state": {
       "children": [
        "IPY_MODEL_c692517aeda84983b617f36eccce1867",
        "IPY_MODEL_374d645936ff4b2ab072c324b6eba2ff"
       ],
       "layout": "IPY_MODEL_aa9c84ad15444f3b96c7fbf2dfb4beee"
      }
     },
     "835a44722f6f4a0ca16f848a8d8cd3fa": {
      "model_module": "@jupyter-widgets/base",
      "model_module_version": "1.0.0",
      "model_name": "LayoutModel",
      "state": {}
     },
     "8883ba858ef24f68a3fc442d13ae963a": {
      "model_module": "@jupyter-widgets/base",
      "model_module_version": "1.0.0",
      "model_name": "LayoutModel",
      "state": {}
     },
     "8ae5d28b0931419aa3c55c85bade90be": {
      "model_module": "@jupyter-widgets/controls",
      "model_module_version": "1.2.0",
      "model_name": "HTMLModel",
      "state": {
       "layout": "IPY_MODEL_cceb9d3cc63b452c8ea5a6f8b33b6845",
       "style": "IPY_MODEL_7af57ac3f6d64244b7ffe9b7f0b8ce31",
       "value": "100% 10/10 [00:05&lt;00:00,  1.97it/s]"
      }
     },
     "8e2ceece697f478db9676838a049967d": {
      "model_module": "@jupyter-widgets/controls",
      "model_module_version": "1.2.0",
      "model_name": "HTMLModel",
      "state": {
       "layout": "IPY_MODEL_d59891539e1a46ac81ce5d3bfe3ca25f",
       "style": "IPY_MODEL_5945bd360b3f4f8cae1689a0e0142500",
       "value": "100% 10/10 [00:05&lt;00:00,  1.98it/s]"
      }
     },
     "8f622002f08e49d4b684acbe0523125b": {
      "model_module": "@jupyter-widgets/controls",
      "model_module_version": "1.2.0",
      "model_name": "HBoxModel",
      "state": {
       "children": [
        "IPY_MODEL_3edbbecd938543c7ad8d1dcc8cf3b8b2",
        "IPY_MODEL_f9b1740a6c7f4b11a081ad5b46622148"
       ],
       "layout": "IPY_MODEL_3b1d8a8117b0484690e7493e144c01e2"
      }
     },
     "94731b7a9434489cac3ad419cd706ee2": {
      "model_module": "@jupyter-widgets/controls",
      "model_module_version": "1.2.0",
      "model_name": "HBoxModel",
      "state": {
       "children": [
        "IPY_MODEL_4e711b4985c1484dbf69272476e9eef2",
        "IPY_MODEL_8e2ceece697f478db9676838a049967d"
       ],
       "layout": "IPY_MODEL_a287ffcb74cd481f8811cde462d79e0f"
      }
     },
     "95887270a49647a8b6b8f56bc989fbf6": {
      "model_module": "@jupyter-widgets/controls",
      "model_module_version": "1.2.0",
      "model_name": "HBoxModel",
      "state": {
       "children": [
        "IPY_MODEL_b034e3a444494baea0a863a2be00e646",
        "IPY_MODEL_3bfbd97d19e548a0af3ae31418803144"
       ],
       "layout": "IPY_MODEL_3f927229fc2e49899dde75798e4bcb39"
      }
     },
     "986c35b8ee8e488e9ff19eb371861e69": {
      "model_module": "@jupyter-widgets/base",
      "model_module_version": "1.0.0",
      "model_name": "LayoutModel",
      "state": {}
     },
     "a25ccc724b2949cb83b003da33dfdab9": {
      "model_module": "@jupyter-widgets/controls",
      "model_module_version": "1.2.0",
      "model_name": "HBoxModel",
      "state": {
       "children": [
        "IPY_MODEL_5ba8f68609b94766b7cec820f4ce5c0e",
        "IPY_MODEL_520f8f7807344a328bb5efda0894326c"
       ],
       "layout": "IPY_MODEL_c9c38ceb3f0f42f6a1e6d978440ed7e8"
      }
     },
     "a287ffcb74cd481f8811cde462d79e0f": {
      "model_module": "@jupyter-widgets/base",
      "model_module_version": "1.0.0",
      "model_name": "LayoutModel",
      "state": {}
     },
     "a2b4d1145a614924bcdb70ea5c9d3b46": {
      "model_module": "@jupyter-widgets/base",
      "model_module_version": "1.0.0",
      "model_name": "LayoutModel",
      "state": {}
     },
     "a79e51fcac5543e08fbc71580b87819c": {
      "model_module": "@jupyter-widgets/base",
      "model_module_version": "1.0.0",
      "model_name": "LayoutModel",
      "state": {}
     },
     "a824093dce3548119c390453ef219cff": {
      "model_module": "@jupyter-widgets/controls",
      "model_module_version": "1.2.0",
      "model_name": "IntProgressModel",
      "state": {
       "bar_style": "danger",
       "description": "11",
       "layout": "IPY_MODEL_e5a0f6409e0043308a61945d93b5c6ec",
       "max": 10,
       "style": "IPY_MODEL_b16ae9aae36b4d028f96d157e62feace",
       "value": 5
      }
     },
     "a9fac9c74ed641a8a9111a5c6977a6f2": {
      "model_module": "@jupyter-widgets/base",
      "model_module_version": "1.0.0",
      "model_name": "LayoutModel",
      "state": {}
     },
     "aa9c84ad15444f3b96c7fbf2dfb4beee": {
      "model_module": "@jupyter-widgets/base",
      "model_module_version": "1.0.0",
      "model_name": "LayoutModel",
      "state": {}
     },
     "abdfa4b5cfc84b9d9f8bda110a8ea8f7": {
      "model_module": "@jupyter-widgets/controls",
      "model_module_version": "1.2.0",
      "model_name": "DescriptionStyleModel",
      "state": {
       "description_width": ""
      }
     },
     "b034e3a444494baea0a863a2be00e646": {
      "model_module": "@jupyter-widgets/controls",
      "model_module_version": "1.2.0",
      "model_name": "IntProgressModel",
      "state": {
       "bar_style": "success",
       "layout": "IPY_MODEL_c51476d5d004498282a08c46fa4de7b5",
       "max": 10,
       "style": "IPY_MODEL_575178375deb4e7f82bd313325b7cf91",
       "value": 10
      }
     },
     "b16ae9aae36b4d028f96d157e62feace": {
      "model_module": "@jupyter-widgets/controls",
      "model_module_version": "1.2.0",
      "model_name": "ProgressStyleModel",
      "state": {
       "description_width": ""
      }
     },
     "bf06079a018144a880b41dc6edb28ab5": {
      "model_module": "@jupyter-widgets/controls",
      "model_module_version": "1.2.0",
      "model_name": "DescriptionStyleModel",
      "state": {
       "description_width": ""
      }
     },
     "c031ddecf0a24c8287fa3c3904df011e": {
      "model_module": "@jupyter-widgets/controls",
      "model_module_version": "1.2.0",
      "model_name": "HBoxModel",
      "state": {
       "children": [
        "IPY_MODEL_4baaf36acee5414392dab02005d411dd",
        "IPY_MODEL_cedc2905b392494e97bcd34811005f68"
       ],
       "layout": "IPY_MODEL_57092664906c46488896faa11c88b92a"
      }
     },
     "c447b6260ba94bd68b4b7a75b431ead5": {
      "model_module": "@jupyter-widgets/controls",
      "model_module_version": "1.2.0",
      "model_name": "DescriptionStyleModel",
      "state": {
       "description_width": ""
      }
     },
     "c49f831ccd3e467092de6612397bba48": {
      "model_module": "@jupyter-widgets/base",
      "model_module_version": "1.0.0",
      "model_name": "LayoutModel",
      "state": {}
     },
     "c51476d5d004498282a08c46fa4de7b5": {
      "model_module": "@jupyter-widgets/base",
      "model_module_version": "1.0.0",
      "model_name": "LayoutModel",
      "state": {}
     },
     "c692517aeda84983b617f36eccce1867": {
      "model_module": "@jupyter-widgets/controls",
      "model_module_version": "1.2.0",
      "model_name": "IntProgressModel",
      "state": {
       "bar_style": "danger",
       "description": "11",
       "layout": "IPY_MODEL_986c35b8ee8e488e9ff19eb371861e69",
       "max": 10,
       "style": "IPY_MODEL_79033742741247b384e53102fb3bfc43",
       "value": 5
      }
     },
     "c9c38ceb3f0f42f6a1e6d978440ed7e8": {
      "model_module": "@jupyter-widgets/base",
      "model_module_version": "1.0.0",
      "model_name": "LayoutModel",
      "state": {}
     },
     "cceb9d3cc63b452c8ea5a6f8b33b6845": {
      "model_module": "@jupyter-widgets/base",
      "model_module_version": "1.0.0",
      "model_name": "LayoutModel",
      "state": {}
     },
     "cedc2905b392494e97bcd34811005f68": {
      "model_module": "@jupyter-widgets/controls",
      "model_module_version": "1.2.0",
      "model_name": "HTMLModel",
      "state": {
       "layout": "IPY_MODEL_dd7dd0846bb24efaab59d6f67ee2686f",
       "style": "IPY_MODEL_59f66c8b636c441fa043b7f7baff72bb",
       "value": "100% 10/10 [00:05&lt;00:00,  1.97it/s]"
      }
     },
     "d08fccabfc7749278950660c84521d1b": {
      "model_module": "@jupyter-widgets/controls",
      "model_module_version": "1.2.0",
      "model_name": "ProgressStyleModel",
      "state": {
       "description_width": ""
      }
     },
     "d450b24103f1488abae213a38bc5f706": {
      "model_module": "@jupyter-widgets/controls",
      "model_module_version": "1.2.0",
      "model_name": "DescriptionStyleModel",
      "state": {
       "description_width": ""
      }
     },
     "d59891539e1a46ac81ce5d3bfe3ca25f": {
      "model_module": "@jupyter-widgets/base",
      "model_module_version": "1.0.0",
      "model_name": "LayoutModel",
      "state": {}
     },
     "dd7dd0846bb24efaab59d6f67ee2686f": {
      "model_module": "@jupyter-widgets/base",
      "model_module_version": "1.0.0",
      "model_name": "LayoutModel",
      "state": {}
     },
     "de899539a77c4c1c91b7178f1117e799": {
      "model_module": "@jupyter-widgets/controls",
      "model_module_version": "1.2.0",
      "model_name": "DescriptionStyleModel",
      "state": {
       "description_width": ""
      }
     },
     "e5a0f6409e0043308a61945d93b5c6ec": {
      "model_module": "@jupyter-widgets/base",
      "model_module_version": "1.0.0",
      "model_name": "LayoutModel",
      "state": {}
     },
     "e9964f7d763b4b82a00c77887bced76b": {
      "model_module": "@jupyter-widgets/base",
      "model_module_version": "1.0.0",
      "model_name": "LayoutModel",
      "state": {}
     },
     "ecc972b9dff349f28540d45b5ddc670d": {
      "model_module": "@jupyter-widgets/base",
      "model_module_version": "1.0.0",
      "model_name": "LayoutModel",
      "state": {}
     },
     "f9b1740a6c7f4b11a081ad5b46622148": {
      "model_module": "@jupyter-widgets/controls",
      "model_module_version": "1.2.0",
      "model_name": "HTMLModel",
      "state": {
       "layout": "IPY_MODEL_a9fac9c74ed641a8a9111a5c6977a6f2",
       "style": "IPY_MODEL_47d09cbd6a4742c48a5493e579a64e79",
       "value": "  0% 0/10 [00:00&lt;?, ?it/s]"
      }
     },
     "fb0bab5b15774e7fae87933015ed4410": {
      "model_module": "@jupyter-widgets/base",
      "model_module_version": "1.0.0",
      "model_name": "LayoutModel",
      "state": {}
     },
     "fb5c1f3fa5044b4a9b32a8912382dd3d": {
      "model_module": "@jupyter-widgets/base",
      "model_module_version": "1.0.0",
      "model_name": "LayoutModel",
      "state": {}
     }
    },
    "version_major": 2,
    "version_minor": 0
   }
  }
 },
 "nbformat": 4,
 "nbformat_minor": 2
}
