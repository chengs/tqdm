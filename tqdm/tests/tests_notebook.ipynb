{
 "cells": [
  {
   "cell_type": "code",
   "execution_count": 1,
   "metadata": {},
   "outputs": [],
   "source": [
    "from __future__ import print_function\n",
    "from tqdm import tnrange, tqdm_notebook\n",
    "from time import sleep\n",
    "from ipywidgets import Widget\n",
    "from IPython.utils.capture import capture_output"
   ]
  },
  {
   "cell_type": "markdown",
   "metadata": {},
   "source": [
    "# autonotebook should be equal to tqdm_notebook"
   ]
  },
  {
   "cell_type": "code",
   "execution_count": 2,
   "metadata": {},
   "outputs": [],
   "source": [
    "with capture_output() as out:\n",
    "    from tqdm.autonotebook import tqdm\n",
    "    for _ in tqdm(range(5)):\n",
    "        sleep(0.1)\n",
    "    assert len(out.outputs)>=1\n",
    "    widget = out.outputs[0].data\n",
    "    assert 'HBox(children=(IntProgress(value=0, max=5)' in widget['text/plain']\n",
    "    widget_id = widget['application/vnd.jupyter.widget-view+json']['model_id']\n",
    "    all_widgets = Widget.widgets\n",
    "    assert widget_id in all_widgets\n",
    "    meta_widget = str(all_widgets[widget_id])\n",
    "    for info in ['value=5', 'bar_style','success', \"100%\", '5/5']:\n",
    "        assert info in meta_widget"
   ]
  },
  {
   "cell_type": "markdown",
   "metadata": {},
   "source": [
    "# tqdm_notebook\n",
    "## normal (should be green bar 'success')"
   ]
  },
  {
   "cell_type": "code",
   "execution_count": 3,
   "metadata": {},
   "outputs": [],
   "source": [
    "with capture_output() as out:\n",
    "    for _ in tqdm_notebook(range(5)):\n",
    "        sleep(0.1)\n",
    "    assert len(out.outputs)>=1\n",
    "    widget = out.outputs[0].data\n",
    "    assert 'HBox(children=(IntProgress(value=0, max=5)' in widget['text/plain']\n",
    "    widget_id = widget['application/vnd.jupyter.widget-view+json']['model_id']\n",
    "    all_widgets = Widget.widgets\n",
    "    assert widget_id in all_widgets\n",
    "    meta_widget = str(all_widgets[widget_id])\n",
    "    for info in ['value=5', 'bar_style','success', \"100%\", '5/5']:\n",
    "        assert info in meta_widget"
   ]
  },
  {
   "cell_type": "markdown",
   "metadata": {},
   "source": [
    "## normal with description"
   ]
  },
  {
   "cell_type": "code",
   "execution_count": 4,
   "metadata": {},
   "outputs": [],
   "source": [
    "with capture_output() as out:\n",
    "    for _ in tqdm_notebook(range(5), desc='Test Desc'):\n",
    "        sleep(0.1)\n",
    "    assert len(out.outputs)>=1\n",
    "    widget = out.outputs[0].data\n",
    "    # PY3 OR PY2\n",
    "    assert \"description='Test Desc'\" in widget['text/plain'] or \"description=u'Test Desc'\" in widget['text/plain']"
   ]
  },
  {
   "cell_type": "markdown",
   "metadata": {},
   "source": [
    "## normal with ncols"
   ]
  },
  {
   "cell_type": "code",
   "execution_count": 5,
   "metadata": {},
   "outputs": [],
   "source": [
    "# TODO: reopen this after bugfix in python2\n",
    "\n",
    "# with capture_output() as out:\n",
    "#     for _ in tqdm_notebook(range(5), ncols=u'800px'):\n",
    "#         sleep(0.1)\n",
    "    \n",
    "#     widget = out.outputs[0].data\n",
    "#     widget_id = widget['application/vnd.jupyter.widget-view+json']['model_id']\n",
    "#     all_widgets = Widget.widgets\n",
    "#     assert widget_id in all_widgets\n",
    "#     meta_widget = str(all_widgets[widget_id])\n",
    "#     assert \"width='800px'\" in meta_widget or \"width=u'800px'\" in meta_widget    "
   ]
  },
  {
   "cell_type": "code",
   "execution_count": 6,
   "metadata": {},
   "outputs": [],
   "source": [
    "# TODO: reopen this after bugfix in python2\n",
    "\n",
    "# with capture_output() as out:\n",
    "#     for _ in tqdm_notebook(range(5), ncols=800):\n",
    "#         sleep(0.1)\n",
    "    \n",
    "#     widget = out.outputs[0].data\n",
    "#     widget_id = widget['application/vnd.jupyter.widget-view+json']['model_id']\n",
    "#     all_widgets = Widget.widgets\n",
    "#     assert widget_id in all_widgets\n",
    "#     meta_widget = str(all_widgets[widget_id])\n",
    "#     assert \"width='800px'\" in meta_widget or \"width=u'800px'\" in meta_widget    "
   ]
  },
  {
   "cell_type": "code",
   "execution_count": 7,
   "metadata": {},
   "outputs": [],
   "source": [
    "# TODO: reopen this after bugfix in python2\n",
    "\n",
    "# with capture_output() as out:\n",
    "#     for _ in tqdm_notebook(range(5), dynamic_ncols=True):\n",
    "#         sleep(0.1)\n",
    "    \n",
    "#     widget = out.outputs[0].data\n",
    "#     widget_id = widget['application/vnd.jupyter.widget-view+json']['model_id']\n",
    "#     all_widgets = Widget.widgets\n",
    "#     assert widget_id in all_widgets\n",
    "#     meta_widget = str(all_widgets[widget_id])\n",
    "#     assert \"width='100%'\" in meta_widget or \"width=u'100%'\" in meta_widget    "
   ]
  },
  {
   "cell_type": "markdown",
   "metadata": {},
   "source": [
    "## break (should be red bar 'danger')"
   ]
  },
  {
   "cell_type": "code",
   "execution_count": 8,
   "metadata": {},
   "outputs": [],
   "source": [
    "with capture_output() as out:\n",
    "    for i in tqdm_notebook(range(5)):\n",
    "        sleep(0.1)\n",
    "        if i == 1:\n",
    "            break\n",
    "        \n",
    "    assert len(out.outputs)>=1\n",
    "    widget = out.outputs[0].data\n",
    "    assert 'HBox(children=(IntProgress(value=0, max=5)' in widget['text/plain']\n",
    "    widget_id = widget['application/vnd.jupyter.widget-view+json']['model_id']\n",
    "    all_widgets = Widget.widgets\n",
    "    assert widget_id in all_widgets\n",
    "    meta_widget = str(all_widgets[widget_id])\n",
    "    for info in ['value=1', 'bar_style', 'danger', '1/5']:\n",
    "        assert info in meta_widget"
   ]
  },
  {
   "cell_type": "markdown",
   "metadata": {},
   "source": [
    "# tnrange\n",
    "## normal (should be green bar 'success')"
   ]
  },
  {
   "cell_type": "code",
   "execution_count": 9,
   "metadata": {},
   "outputs": [],
   "source": [
    "with capture_output() as out:\n",
    "    for _ in tnrange(5):\n",
    "        sleep(0.1)\n",
    "    assert len(out.outputs)>=1\n",
    "    widget = out.outputs[0].data\n",
    "    assert 'HBox(children=(IntProgress(value=0, max=5)' in widget['text/plain']\n",
    "    widget_id = widget['application/vnd.jupyter.widget-view+json']['model_id']\n",
    "    all_widgets = Widget.widgets\n",
    "    assert widget_id in all_widgets\n",
    "    meta_widget = str(all_widgets[widget_id])\n",
    "    for info in ['value=5', 'bar_style','success', \"100%\", '5/5']:\n",
    "        assert info in meta_widget"
   ]
  },
  {
   "cell_type": "markdown",
   "metadata": {},
   "source": [
    "## normal with description"
   ]
  },
  {
   "cell_type": "code",
   "execution_count": 10,
   "metadata": {},
   "outputs": [],
   "source": [
    "with capture_output() as out:\n",
    "    for _ in tnrange(5, desc='Test Desc'):\n",
    "        sleep(0.1)\n",
    "    assert len(out.outputs)>=1\n",
    "    widget = out.outputs[0].data\n",
    "    assert \"description='Test Desc'\" in widget['text/plain'] or \"description=u'Test Desc'\" in widget['text/plain']"
   ]
  },
  {
   "cell_type": "markdown",
   "metadata": {},
   "source": [
    "## break (should be red bar 'danger')"
   ]
  },
  {
   "cell_type": "code",
   "execution_count": 11,
   "metadata": {},
   "outputs": [],
   "source": [
    "with capture_output() as out:\n",
    "    for i in tnrange(5):\n",
    "        sleep(0.1)\n",
    "        if i == 1:\n",
    "            break\n",
    "        \n",
    "    assert len(out.outputs)>=1\n",
    "    widget = out.outputs[0].data\n",
    "    assert 'HBox(children=(IntProgress(value=0, max=5)' in widget['text/plain']\n",
    "    widget_id = widget['application/vnd.jupyter.widget-view+json']['model_id']\n",
    "    all_widgets = Widget.widgets\n",
    "    assert widget_id in all_widgets\n",
    "    meta_widget = str(all_widgets[widget_id])\n",
    "    for info in ['value=1', 'bar_style','danger', '1/5']:\n",
    "        assert info in meta_widget"
   ]
  },
  {
   "cell_type": "markdown",
   "metadata": {},
   "source": [
    "# unusuall usages"
   ]
  },
  {
   "cell_type": "markdown",
   "metadata": {},
   "source": [
    "## pbar with total"
   ]
  },
  {
   "cell_type": "code",
   "execution_count": 12,
   "metadata": {},
   "outputs": [],
   "source": [
    "with capture_output() as out:\n",
    "    pbar = tqdm_notebook(total=5)\n",
    "    sleep(0.1)\n",
    "    pbar.update()\n",
    "    sleep(0.1)\n",
    "    pbar.update(1)\n",
    "    sleep(0.1)\n",
    "    pbar.update(2)\n",
    "    sleep(0.1)\n",
    "    \n",
    "    \n",
    "    assert len(out.outputs)>=1\n",
    "    widget = out.outputs[0].data\n",
    "    assert 'HBox(children=(IntProgress(value=0, max=5)' in widget['text/plain']\n",
    "    widget_id = widget['application/vnd.jupyter.widget-view+json']['model_id']\n",
    "    all_widgets = Widget.widgets\n",
    "    assert widget_id in all_widgets\n",
    "    meta_widget = str(all_widgets[widget_id])\n",
    "    for info in ['value=4', \"80%\", '4/5']:\n",
    "        assert info in meta_widget"
   ]
  },
  {
   "cell_type": "markdown",
   "metadata": {},
   "source": [
    "## pbar without total"
   ]
  },
  {
   "cell_type": "code",
   "execution_count": 13,
   "metadata": {},
   "outputs": [],
   "source": [
    "with capture_output() as out:\n",
    "    pbar = tqdm_notebook()\n",
    "    sleep(0.1)\n",
    "    pbar.update()\n",
    "    sleep(0.1)\n",
    "    pbar.update(1)\n",
    "    sleep(0.1)\n",
    "    pbar.update(2)\n",
    "    sleep(0.1)\n",
    "    \n",
    "    \n",
    "    assert len(out.outputs)>=1\n",
    "    widget = out.outputs[0].data\n",
    "    assert \"bar_style='info'\" in widget['text/plain'] or \"bar_style=u'info'\" in widget['text/plain']\n",
    "    widget_id = widget['application/vnd.jupyter.widget-view+json']['model_id']\n",
    "    all_widgets = Widget.widgets\n",
    "    assert widget_id in all_widgets\n",
    "    meta_widget = str(all_widgets[widget_id])\n",
    "    for info in ['4it']:\n",
    "        assert info in meta_widget"
   ]
  },
  {
   "cell_type": "markdown",
   "metadata": {},
   "source": [
    "## update with error"
   ]
  },
  {
   "cell_type": "code",
   "execution_count": 14,
   "metadata": {},
   "outputs": [],
   "source": [
    "with capture_output() as out:\n",
    "    try:\n",
    "        for i in tqdm_notebook(range(5)):\n",
    "            sleep(0.1)\n",
    "            if i == 1:\n",
    "                raise Exception('IAMWrong')\n",
    "    except Exception:\n",
    "        pass\n",
    "        \n",
    "    assert len(out.outputs)>=1\n",
    "    widget = out.outputs[0].data\n",
    "    assert 'HBox(children=(IntProgress(value=0, max=5)' in widget['text/plain']\n",
    "    widget_id = widget['application/vnd.jupyter.widget-view+json']['model_id']\n",
    "    all_widgets = Widget.widgets\n",
    "    assert widget_id in all_widgets\n",
    "    meta_widget = str(all_widgets[widget_id])\n",
    "    for info in ['value=1', 'bar_style', 'danger', '1/5']:\n",
    "        assert info in meta_widget"
   ]
  }
 ],
 "metadata": {
  "kernelspec": {
   "display_name": "Python 3",
   "language": "python",
   "name": "python3"
  },
  "language_info": {
   "codemirror_mode": {
    "name": "ipython",
    "version": 3
   },
   "file_extension": ".py",
   "mimetype": "text/x-python",
   "name": "python",
   "nbconvert_exporter": "python",
   "pygments_lexer": "ipython3",
   "version": "3.6.3"
  }
 },
 "nbformat": 4,
 "nbformat_minor": 2
}
